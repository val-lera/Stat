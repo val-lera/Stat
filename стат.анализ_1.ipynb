{
 "cells": [
  {
   "cell_type": "markdown",
   "id": "8215dc2c",
   "metadata": {},
   "source": [
    "### Лабораторная работа №1\n",
    "#### Выполнила Блистунова Валерия\n",
    "#### группа М8О-401Б-18"
   ]
  },
  {
   "cell_type": "code",
   "execution_count": 14,
   "id": "d89b4457",
   "metadata": {},
   "outputs": [],
   "source": [
    "# Подключим необходимые библиотеки\n",
    "import pandas as pd\n",
    "import matplotlib.pyplot as plt\n",
    "import numpy as np\n",
    "from scipy.stats import shapiro\n",
    "from scipy.optimize import fmin"
   ]
  },
  {
   "cell_type": "markdown",
   "id": "a5b433d1",
   "metadata": {},
   "source": [
    "#### Датасет\n",
    "Для выполнения работы я выбрала набор данных о лесных пожарах.\n",
    "https://archive.ics.uci.edu/ml/datasets/Forest+Fires\n",
    "В данном наборе присутствуют данные о: температуре, осадках, ветре, специализированных индексах, координатах возгорания, площади. \n",
    "Индексы: FFMC- индекс легкости воспламенения топлива; DMC- индекс нормы влажности; DC- индекс нормы засухи; ISI- индекс первоначального распространения; RH- относительная влажность."
   ]
  },
  {
   "cell_type": "code",
   "execution_count": 15,
   "id": "6fcb6e54",
   "metadata": {},
   "outputs": [
    {
     "data": {
      "text/html": [
       "<div>\n",
       "<style scoped>\n",
       "    .dataframe tbody tr th:only-of-type {\n",
       "        vertical-align: middle;\n",
       "    }\n",
       "\n",
       "    .dataframe tbody tr th {\n",
       "        vertical-align: top;\n",
       "    }\n",
       "\n",
       "    .dataframe thead th {\n",
       "        text-align: right;\n",
       "    }\n",
       "</style>\n",
       "<table border=\"1\" class=\"dataframe\">\n",
       "  <thead>\n",
       "    <tr style=\"text-align: right;\">\n",
       "      <th></th>\n",
       "      <th>X</th>\n",
       "      <th>Y</th>\n",
       "      <th>month</th>\n",
       "      <th>day</th>\n",
       "      <th>FFMC</th>\n",
       "      <th>DMC</th>\n",
       "      <th>DC</th>\n",
       "      <th>ISI</th>\n",
       "      <th>temp</th>\n",
       "      <th>RH</th>\n",
       "      <th>wind</th>\n",
       "      <th>rain</th>\n",
       "      <th>area</th>\n",
       "    </tr>\n",
       "  </thead>\n",
       "  <tbody>\n",
       "    <tr>\n",
       "      <th>0</th>\n",
       "      <td>7</td>\n",
       "      <td>5</td>\n",
       "      <td>mar</td>\n",
       "      <td>fri</td>\n",
       "      <td>86.2</td>\n",
       "      <td>26.2</td>\n",
       "      <td>94.3</td>\n",
       "      <td>5.1</td>\n",
       "      <td>8.2</td>\n",
       "      <td>51</td>\n",
       "      <td>6.7</td>\n",
       "      <td>0.0</td>\n",
       "      <td>0.0</td>\n",
       "    </tr>\n",
       "    <tr>\n",
       "      <th>1</th>\n",
       "      <td>7</td>\n",
       "      <td>4</td>\n",
       "      <td>oct</td>\n",
       "      <td>tue</td>\n",
       "      <td>90.6</td>\n",
       "      <td>35.4</td>\n",
       "      <td>669.1</td>\n",
       "      <td>6.7</td>\n",
       "      <td>18.0</td>\n",
       "      <td>33</td>\n",
       "      <td>0.9</td>\n",
       "      <td>0.0</td>\n",
       "      <td>0.0</td>\n",
       "    </tr>\n",
       "    <tr>\n",
       "      <th>2</th>\n",
       "      <td>7</td>\n",
       "      <td>4</td>\n",
       "      <td>oct</td>\n",
       "      <td>sat</td>\n",
       "      <td>90.6</td>\n",
       "      <td>43.7</td>\n",
       "      <td>686.9</td>\n",
       "      <td>6.7</td>\n",
       "      <td>14.6</td>\n",
       "      <td>33</td>\n",
       "      <td>1.3</td>\n",
       "      <td>0.0</td>\n",
       "      <td>0.0</td>\n",
       "    </tr>\n",
       "    <tr>\n",
       "      <th>3</th>\n",
       "      <td>8</td>\n",
       "      <td>6</td>\n",
       "      <td>mar</td>\n",
       "      <td>fri</td>\n",
       "      <td>91.7</td>\n",
       "      <td>33.3</td>\n",
       "      <td>77.5</td>\n",
       "      <td>9.0</td>\n",
       "      <td>8.3</td>\n",
       "      <td>97</td>\n",
       "      <td>4.0</td>\n",
       "      <td>0.2</td>\n",
       "      <td>0.0</td>\n",
       "    </tr>\n",
       "    <tr>\n",
       "      <th>4</th>\n",
       "      <td>8</td>\n",
       "      <td>6</td>\n",
       "      <td>mar</td>\n",
       "      <td>sun</td>\n",
       "      <td>89.3</td>\n",
       "      <td>51.3</td>\n",
       "      <td>102.2</td>\n",
       "      <td>9.6</td>\n",
       "      <td>11.4</td>\n",
       "      <td>99</td>\n",
       "      <td>1.8</td>\n",
       "      <td>0.0</td>\n",
       "      <td>0.0</td>\n",
       "    </tr>\n",
       "  </tbody>\n",
       "</table>\n",
       "</div>"
      ],
      "text/plain": [
       "   X  Y month  day  FFMC   DMC     DC  ISI  temp  RH  wind  rain  area\n",
       "0  7  5   mar  fri  86.2  26.2   94.3  5.1   8.2  51   6.7   0.0   0.0\n",
       "1  7  4   oct  tue  90.6  35.4  669.1  6.7  18.0  33   0.9   0.0   0.0\n",
       "2  7  4   oct  sat  90.6  43.7  686.9  6.7  14.6  33   1.3   0.0   0.0\n",
       "3  8  6   mar  fri  91.7  33.3   77.5  9.0   8.3  97   4.0   0.2   0.0\n",
       "4  8  6   mar  sun  89.3  51.3  102.2  9.6  11.4  99   1.8   0.0   0.0"
      ]
     },
     "execution_count": 15,
     "metadata": {},
     "output_type": "execute_result"
    }
   ],
   "source": [
    "data = pd.read_csv('forestfires.csv')\n",
    "data.head()"
   ]
  },
  {
   "cell_type": "markdown",
   "id": "133bb383",
   "metadata": {},
   "source": [
    "Исследуем зависимость индекса легкости воспламенения топлива, FFMC, от температуры."
   ]
  },
  {
   "cell_type": "code",
   "execution_count": 16,
   "id": "562af528",
   "metadata": {},
   "outputs": [
    {
     "data": {
      "image/png": "[encoded data removed]",
      "text/plain": [
       "<matplotlib.figure.Figure at 0x7f08f2fa25f8>"
      ]
     },
     "metadata": {
      "needs_background": "light"
     },
     "output_type": "display_data"
    }
   ],
   "source": [
    "X = np.array(data.temp) # Объясняющая переменная\n",
    "Y = np.array(data.FFMC) # Объясняемая переменная\n",
    "plt.figure(figsize=(10,7))\n",
    "plt.scatter(X,Y)\n",
    "plt.title('Зависимость индекса FFMC от температуры')\n",
    "plt.xlabel('Температура, С')\n",
    "plt.ylabel('Индекс FFMC')\n",
    "plt.show()"
   ]
  },
  {
   "cell_type": "markdown",
   "id": "934f1d69",
   "metadata": {},
   "source": [
    "Из графика можно сделать выввод, что достаточно первой степени многочлена, т.е. $$Y_{i}=\\theta_{0}+\\theta_{1}X_{i}$$ \n",
    "Найдем МНК-оценку $$\\hat{\\theta}=(H^{T}H)^{-1}H^{T}Y$$\n",
    "А далее вычислим $$\\hat{Y}=H\\hat{\\theta}$$"
   ]
  },
  {
   "cell_type": "code",
   "execution_count": 17,
   "id": "7101c3b1",
   "metadata": {},
   "outputs": [],
   "source": [
    "m = 1\n",
    "H = []\n",
    "for x in X:\n",
    "    row = [x**i for i in range(2)]\n",
    "    H.append(row)    \n",
    "H = np.array(H)\n",
    "theta = np.dot(np.dot(np.linalg.inv(np.dot(H.T,H)),H.T),Y)\n",
    "Y_hat = []\n",
    "Y_hat.append(np.dot(H,theta))"
   ]
  },
  {
   "cell_type": "code",
   "execution_count": 18,
   "id": "9d0b3c2a",
   "metadata": {},
   "outputs": [
    {
     "data": {
      "image/png": "[encoded data removed]",
      "text/plain": [
       "<matplotlib.figure.Figure at 0x7f08f2fe3390>"
      ]
     },
     "metadata": {
      "needs_background": "light"
     },
     "output_type": "display_data"
    }
   ],
   "source": [
    "plt.figure(figsize = (10,7))\n",
    "plt.scatter(X,Y)\n",
    "for y in Y_hat:\n",
    "    plt.plot(X,y, color = 'red')\n",
    "plt.xlabel('X')\n",
    "plt.ylabel('Y')\n",
    "plt.show()"
   ]
  },
  {
   "cell_type": "markdown",
   "id": "0cd8afef",
   "metadata": {},
   "source": [
    "Вычислим остатки $$\\hat{\\varepsilon}=Y-\\hat{Y}$$\n",
    "и вспомогательные коэффициенты $$SS_{res}=\\sum_{i=1}^{n}{\\hat{\\varepsilon}_{i}^{2}}$$ $$SS_{tot}=\\sum_{i=1}^{n}(Y_{i}-\\overline{Y})^{2}$$\n",
    "Теперь можно вычислить коэффициент детерминации $$R^{2}=1-\\frac{SS_{res}}{SS_{tot}}$$"
   ]
  },
  {
   "cell_type": "code",
   "execution_count": 19,
   "id": "a6d83f3f",
   "metadata": {},
   "outputs": [
    {
     "name": "stdout",
     "output_type": "stream",
     "text": [
      "0.18622009071180368\n"
     ]
    }
   ],
   "source": [
    "e_hat = Y-Y_hat\n",
    "SS_res = np.sum(e_hat**2)\n",
    "SS_tot = np.sum((Y-Y.mean())**2)\n",
    "R = 1 - SS_res/SS_tot\n",
    "print(R)"
   ]
  },
  {
   "cell_type": "markdown",
   "id": "6c2ae4a6",
   "metadata": {},
   "source": [
    "Проверим, имеют ли остатки нормальное распределение. Используем для этого тест Шапиро-Уилка"
   ]
  },
  {
   "cell_type": "code",
   "execution_count": 20,
   "id": "53b399c0",
   "metadata": {},
   "outputs": [
    {
     "data": {
      "text/plain": [
       "0.0"
      ]
     },
     "execution_count": 20,
     "metadata": {},
     "output_type": "execute_result"
    }
   ],
   "source": [
    "sh_test = shapiro(e_hat)\n",
    "round(sh_test.pvalue, 3)"
   ]
  },
  {
   "cell_type": "markdown",
   "id": "9e56f0a8",
   "metadata": {},
   "source": [
    "Значение P-value близко к нулю, значит, ошибки не имеют нормального распределения.\n",
    "\n",
    "Построим М оценки по формуле $$\\sum_{i=1}^{n}{\\rho(Y_{i}-\\sum_{j=0}^{m}{\\theta_{j}X^{j}_{i}})}\\rightarrow min$$\n",
    "где в качестве функции $$\\rho(u)$$ рассмотрим функцию Хьюбера\n",
    "$$\\begin{equation*}\n",
    "\\rho(u)= \n",
    " \\begin{cases}\n",
    "   \\frac{u^{2}}{2} &\\text{, |u|}\\leq\\delta\\\\\n",
    "   \\delta(|u|-\\frac{1}{2}\\delta) &\\text{, |u|}>\\delta\n",
    " \\end{cases}\n",
    "\\end{equation*}$$\n",
    "и функцию Тьюки\n",
    "$$\\begin{equation*}\n",
    "\\rho(u)= \n",
    " \\begin{cases}\n",
    "   \\frac{\\delta^{2}}{6}(1-(1-(\\frac{u}{\\delta})^{2})^{3}) &\\text{, |u|}\\leq\\delta\\\\\n",
    "   \\frac{\\delta^{2}}{6} &\\text{, |u|}>\\delta\n",
    " \\end{cases}\n",
    "\\end{equation*}$$"
   ]
  },
  {
   "cell_type": "code",
   "execution_count": 46,
   "id": "e59260ac",
   "metadata": {},
   "outputs": [],
   "source": [
    "delta = 0.1\n",
    "Y_norm = (Y-Y.mean())/Y.std()\n",
    "# Функция Хьюбера\n",
    "def huber(u):\n",
    "    if(abs(u) <= delta):\n",
    "        return(u**2/2)\n",
    "    else:\n",
    "        return(delta*(abs(u) - delta/2))\n",
    "# Функция Тьюки\n",
    "def tukey(u):\n",
    "    if(abs(u) <= delta):\n",
    "        return((delta**2/6)(1-(1-(u/delta)**2)**3))\n",
    "    else:\n",
    "        return(delta**2/6)\n",
    "\n",
    "def func_huber(theta):\n",
    "    return np.sum([huber(y-np.sum(theta*h)) for y, h in zip(Y_norm,H)])\n",
    "\n",
    "def func_tukey(theta):\n",
    "    return np.sum([tukey(y-np.sum(theta*h)) for y, h in zip(Y_norm,H)])"
   ]
  },
  {
   "cell_type": "code",
   "execution_count": 60,
   "id": "b78bc7cc",
   "metadata": {},
   "outputs": [
    {
     "name": "stdout",
     "output_type": "stream",
     "text": [
      "Optimization terminated successfully.\n",
      "         Current function value: 17.497681\n",
      "         Iterations: 69\n",
      "         Function evaluations: 130\n",
      "Optimization terminated successfully.\n",
      "         Current function value: 0.861667\n",
      "         Iterations: 17\n",
      "         Function evaluations: 67\n"
     ]
    }
   ],
   "source": [
    "theta_huber = fmin(func_huber, theta)\n",
    "theta_tukey = fmin(func_tukey, theta)\n",
    "Y_huber = np.dot(H,theta_huber)\n",
    "Y_tukey = np.dot(H,0.003*theta_tukey)"
   ]
  },
  {
   "cell_type": "code",
   "execution_count": 61,
   "id": "2264cc56",
   "metadata": {},
   "outputs": [
    {
     "data": {
      "image/png": "[encoded data removed]",
      "text/plain": [
       "<matplotlib.figure.Figure at 0x7f08f1c6f438>"
      ]
     },
     "metadata": {
      "needs_background": "light"
     },
     "output_type": "display_data"
    }
   ],
   "source": [
    "plt.figure(figsize=(12,6))\n",
    "plt.scatter(X,Y, label='Real')\n",
    "for y in Y_hat:\n",
    "    plt.plot(X,y, color = 'red', label='MLS')\n",
    "plt.plot(X,Y_huber*Y.std() + Y.mean(), color = 'green', label='Huber')\n",
    "plt.plot(X,Y_tukey*Y.std() + Y.mean(), color = 'yellow', label='Tukey')\n",
    "plt.title('М-оценки')\n",
    "plt.legend()\n",
    "plt.show()"
   ]
  }
 ],
 "metadata": {
  "kernelspec": {
   "display_name": "Python 3",
   "language": "python",
   "name": "python3"
  },
  "language_info": {
   "codemirror_mode": {
    "name": "ipython",
    "version": 3
   },
   "file_extension": ".py",
   "mimetype": "text/x-python",
   "name": "python",
   "nbconvert_exporter": "python",
   "pygments_lexer": "ipython3",
   "version": "3.6.9"
  }
 },
 "nbformat": 4,
 "nbformat_minor": 5
}
