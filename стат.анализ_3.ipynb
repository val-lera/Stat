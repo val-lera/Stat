{
 "cells": [
  {
   "cell_type": "markdown",
   "id": "adb5dd23",
   "metadata": {},
   "source": [
    "### Лабораторная работа №3\n",
    "#### Выполнила Блистунова Валерия\n",
    "#### группа М8О-401Б-18"
   ]
  },
  {
   "cell_type": "code",
   "execution_count": 88,
   "id": "841ec9d6",
   "metadata": {},
   "outputs": [],
   "source": [
    "# Подключаем необходимые библиотеки\n",
    "import matplotlib.pyplot as plt\n",
    "import numpy as np\n",
    "import scipy.stats as sps"
   ]
  },
  {
   "cell_type": "markdown",
   "id": "7c8b411b",
   "metadata": {},
   "source": [
    "Сгенерируем три пары выборок. Пусть $$X\\sim R(1,2)$$ $$Y_{1}=3x+5\\varepsilon$$ $$Y_{2}=2x^{2}+5\\varepsilon$$ $$Y_{3}=cos(x)+\\varepsilon$$"
   ]
  },
  {
   "cell_type": "code",
   "execution_count": 89,
   "id": "091baf2b",
   "metadata": {},
   "outputs": [
    {
     "data": {
      "text/plain": [
       "<Container object of 3 artists>"
      ]
     },
     "execution_count": 89,
     "metadata": {},
     "output_type": "execute_result"
    },
    {
     "data": {
      "image/png": "[encoded data removed]",
      "text/plain": [
       "<matplotlib.figure.Figure at 0x7fcc3a4744a8>"
      ]
     },
     "metadata": {
      "needs_background": "light"
     },
     "output_type": "display_data"
    }
   ],
   "source": [
    "n = 100\n",
    "alfa = 0.01\n",
    "sp_list = []\n",
    "tmp_sp1 = 0\n",
    "tmp_sp2 = 0\n",
    "tmp_sp3 = 0\n",
    "tmp_ch1 = 0\n",
    "tmp_ch2 = 0\n",
    "tmp_ch3 = 0\n",
    "tmp_corr1 = 0\n",
    "tmp_corr2 = 0\n",
    "tmp_corr3 = 0\n",
    "for i in range(n):\n",
    "    X = np.random.uniform(1,2,n)\n",
    "    E = np.random.normal(0,1,n)\n",
    "    Y1 = []\n",
    "    Y2 = []\n",
    "    Y3 = []\n",
    "    for i in range(n):\n",
    "        Y1.append(3*X[i]+5*E[i])\n",
    "        Y2.append(2*(X[i])**2+5*E[i])\n",
    "        Y3.append(np.cos(X[i])+E[i])\n",
    "    sp_stat1, sp_p1 = sps.spearmanr(X, Y1)\n",
    "    sp_stat2, sp_p2 = sps.spearmanr(X, Y2)\n",
    "    sp_stat3, sp_p3 = sps.spearmanr(X, Y3)\n",
    "    if(sp_p1 > alfa):\n",
    "        tmp_sp1 = tmp_sp1 + 1\n",
    "    if(sp_p2 > alfa):\n",
    "        tmp_sp2 = tmp_sp2 + 1\n",
    "    if(sp_p3 > alfa):\n",
    "        tmp_sp3 = tmp_sp3 + 1\n",
    "    ch_stat1, ch_p1 = sps.chisquare(f_obs=X,f_exp=Y1)\n",
    "    ch_stat2, ch_p2 = sps.chisquare(f_obs=X,f_exp=Y2)\n",
    "    ch_stat3, ch_p3 = sps.chisquare(f_obs=X,f_exp=Y3)\n",
    "    if(ch_p1 > alfa):\n",
    "        tmp_ch1 = tmp_ch1 + 1\n",
    "    if(ch_p2 > alfa):\n",
    "        tmp_ch2 = tmp_ch2 + 1\n",
    "    if(ch_p3 > alfa):\n",
    "        tmp_ch3 = tmp_ch3 + 1\n",
    "    corr_stat1, corr_p1 = sps.pearsonr(X,Y1)\n",
    "    corr_stat2, corr_p2 = sps.pearsonr(X,Y2)\n",
    "    corr_stat3, corr_p3 = sps.pearsonr(X,Y3)\n",
    "    if(corr_p1 > alfa):\n",
    "        tmp_corr1 = tmp_corr1 + 1\n",
    "    if(corr_p2 > alfa):\n",
    "        tmp_corr2 = tmp_corr2 + 1\n",
    "    if(corr_p3 > alfa):\n",
    "        tmp_corr3 = tmp_corr3 + 1\n",
    "data_sp = {'linear': tmp_sp1/n, 'monotone': tmp_sp2/n, 'non-monotonic': tmp_sp3/n}\n",
    "data_ch = {'linear': tmp_ch1/n, 'monotone': tmp_ch2/n, 'non-monotonic': tmp_ch3/n}\n",
    "data_corr = {'linear': tmp_corr1/n, 'monotone': tmp_corr2/n, 'non-monotonic': tmp_corr3/n}\n",
    "names = list(data_sp.keys())\n",
    "fig, axs = plt.subplots(1, 3, figsize=(15, 6), sharey=True)\n",
    "axs[0].set_title('Spearman')\n",
    "axs[0].bar(names, list(data_sp.values()))\n",
    "axs[1].set_title('Chi-square')\n",
    "axs[1].bar(names, list(data_ch.values()))\n",
    "axs[2].set_title('Correlation')\n",
    "axs[2].bar(names, list(data_corr.values()))"
   ]
  }
 ],
 "metadata": {
  "kernelspec": {
   "display_name": "Python 3",
   "language": "python",
   "name": "python3"
  },
  "language_info": {
   "codemirror_mode": {
    "name": "ipython",
    "version": 3
   },
   "file_extension": ".py",
   "mimetype": "text/x-python",
   "name": "python",
   "nbconvert_exporter": "python",
   "pygments_lexer": "ipython3",
   "version": "3.6.9"
  }
 },
 "nbformat": 4,
 "nbformat_minor": 5
}
